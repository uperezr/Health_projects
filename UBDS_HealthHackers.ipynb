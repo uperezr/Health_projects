{
  "nbformat": 4,
  "nbformat_minor": 0,
  "metadata": {
    "colab": {
      "name": "UBDS_HealthHackers.ipynb",
      "version": "0.3.2",
      "provenance": [],
      "collapsed_sections": [],
      "toc_visible": true
    },
    "kernelspec": {
      "name": "python3",
      "display_name": "Python 3"
    }
  },
  "cells": [
    {
      "cell_type": "markdown",
      "metadata": {
        "id": "rtKiy5VvQnYb",
        "colab_type": "text"
      },
      "source": [
        "# Udacity Bertelsmann Data Science Challenge\n",
        "\n",
        "---\n",
        "\n",
        "\n",
        "\n",
        "This Jupyter notebook is used by the HealthHackers group to collaborate on the Python code for classifying patients into risk groups for the Bertelsmann-Udacity Project Showcase Challenge.\n",
        "\n",
        "\n",
        "## Python Implementation\n",
        "\n",
        "---\n",
        "\n",
        "\n",
        "\n",
        "**1. Upload the dataset from your local drive**\n",
        "\n",
        "\n",
        "\n"
      ]
    },
    {
      "cell_type": "code",
      "metadata": {
        "id": "o0YnWN6FQs1q",
        "colab_type": "code",
        "outputId": "76881395-adcb-4ad9-ed04-6a2cc5c0d9d2",
        "colab": {
          "base_uri": "https://localhost:8080/",
          "height": 38
        }
      },
      "source": [
        "'''\n",
        "Load combined_excel.csv from your local drive\n",
        "'''\n",
        "\n",
        "from google.colab import files\n",
        "\n",
        "uploaded = files.upload()\n",
        "\n",
        "for fn in uploaded.keys():\n",
        "  print('User uploaded file \"{name}\" with length {length} bytes'.format(\n",
        "      name=fn, length=len(uploaded[fn])))"
      ],
      "execution_count": 0,
      "outputs": [
        {
          "output_type": "display_data",
          "data": {
            "text/html": [
              "\n",
              "     <input type=\"file\" id=\"files-60f933de-c62f-4f90-a280-767437f56015\" name=\"files[]\" multiple disabled />\n",
              "     <output id=\"result-60f933de-c62f-4f90-a280-767437f56015\">\n",
              "      Upload widget is only available when the cell has been executed in the\n",
              "      current browser session. Please rerun this cell to enable.\n",
              "      </output>\n",
              "      <script src=\"/nbextensions/google.colab/files.js\"></script> "
            ],
            "text/plain": [
              "<IPython.core.display.HTML object>"
            ]
          },
          "metadata": {
            "tags": []
          }
        }
      ]
    },
    {
      "cell_type": "markdown",
      "metadata": {
        "id": "5C5c-tZ2Vwpt",
        "colab_type": "text"
      },
      "source": [
        "**2. Load the CSV file into data structure**"
      ]
    },
    {
      "cell_type": "code",
      "metadata": {
        "id": "wSG7BB-1XhT1",
        "colab_type": "code",
        "colab": {}
      },
      "source": [
        "import csv\n",
        "\n",
        "count = 0\n",
        "\n",
        "'''\n",
        "  Load the csv file into a nested list \n",
        "'''\n",
        "with open(\"combined_excel.csv\", 'r') as f:\n",
        "  reader = csv.reader(f)\n",
        "  file_data = list(reader)"
      ],
      "execution_count": 0,
      "outputs": []
    },
    {
      "cell_type": "markdown",
      "metadata": {
        "id": "uwXPpjOddnKX",
        "colab_type": "text"
      },
      "source": [
        "**3. Define function for analyzing the data**"
      ]
    },
    {
      "cell_type": "code",
      "metadata": {
        "id": "qLaQY4xPdmFm",
        "colab_type": "code",
        "colab": {}
      },
      "source": [
        "def analyze_data(row_data):\n",
        "  \n",
        "  if row_data['flt3_allelic_ratio'] != 'Not Done' and float(row_data['flt3_allelic_ratio']) > 0.4:\n",
        "    return 'high'\n",
        "  elif row_data['npm'] == 'Mutated':\n",
        "    return 'low'\n",
        "  elif row_data['down_syndrome'] == 1 and int(row_data['age']) >= 4:\n",
        "    return 'low'\n",
        "  elif row_data['abnormalities'] == '':\n",
        "    return 'standard'\n",
        "  else:\n",
        "    for sub_idx in range(len(row_data['abnormalities'])):\n",
        "      abnormality = row_data['abnormalities'][sub_idx]\n",
        "      if 'inv(16)' in abnormality:\n",
        "        \n",
        "        return 'low'\n",
        "      elif 't(8;21)' in abnormality:\n",
        "        \n",
        "        return 'low'\n",
        "      elif abnormality == '-7q':\n",
        "        return 'high'\n",
        "      elif abnormality == '-7':\n",
        "        return 'high'\n",
        "      elif abnormality == '-5q':\n",
        "        return 'high'\n",
        "      elif abnormality == '-5':\n",
        "        return 'high' \n",
        "      elif len(set(row_data['abnormalities'])) >= 4:\n",
        "        return 'high' \n",
        "  return 'standard'"
      ],
      "execution_count": 0,
      "outputs": []
    },
    {
      "cell_type": "code",
      "metadata": {
        "id": "W4x3DnYFhmnV",
        "colab_type": "code",
        "colab": {}
      },
      "source": [
        "def analyze_data(row_data):\n",
        "  \n",
        "  if row_data['flt3_allelic_ratio'] != 'Not Done' and float(row_data['flt3_allelic_ratio']) > 0.4:\n",
        "    row_data['riskcause']= 'flt3'\n",
        "    return 'high'\n",
        "  elif row_data['npm'] == 'Mutated':\n",
        "    row_data['riskcause']= 'npm'\n",
        "    return 'low'\n",
        "  elif row_data['down_syndrome'] == 1 and int(row_data['age']) >= 4:\n",
        "    row_data['riskcause']= 'down_syndrome'\n",
        "    return 'low'\n",
        "  elif row_data['abnormalities'] == '':\n",
        "    return 'standard'\n",
        "  else:\n",
        "    #row_data['riskcause']= 'abnormality in karyotype'\n",
        "    for sub_idx in range(len(row_data['abnormalities'])):\n",
        "      abnormality = row_data['abnormalities'][sub_idx]\n",
        "      if 'inv(16)' in abnormality:\n",
        "        row_data['riskcause']= 'inv(16)'\n",
        "        return 'low'\n",
        "      elif 't(8;21)' in abnormality:\n",
        "        row_data['riskcause']= 't(8;21)'\n",
        "        return 'low'\n",
        "      elif abnormality == '-7q':\n",
        "        row_data['riskcause']= '-7q'\n",
        "        return 'high'\n",
        "      elif abnormality == '-7':\n",
        "        row_data['riskcause']= '-7'\n",
        "        return 'high'\n",
        "      elif abnormality == '-5q':\n",
        "        row_data['riskcause']= '-5q'\n",
        "        return 'high'\n",
        "      elif abnormality == '-5':\n",
        "        row_data['riskcause']= '-5'\n",
        "        return 'high' \n",
        "      elif len(set(row_data['abnormalities'])) >= 4:\n",
        "        row_data['riskcause']= 'four abnormalities and higher'\n",
        "        return 'high' \n",
        "  row_data['riskcause']= 'not low not high'\n",
        "  return 'standard'"
      ],
      "execution_count": 0,
      "outputs": []
    },
    {
      "cell_type": "markdown",
      "metadata": {
        "id": "0DC3wuk_YVrv",
        "colab_type": "text"
      },
      "source": [
        "**4. Define function for processing the data**"
      ]
    },
    {
      "cell_type": "code",
      "metadata": {
        "id": "4OWeAsAJYbBP",
        "colab_type": "code",
        "colab": {}
      },
      "source": [
        "def process_and_analyze_data(data):\n",
        "  processed_data = dict()\n",
        "  \n",
        "  for idx in range(1, len(data)):\n",
        "    row_data = dict()\n",
        "    \n",
        "    pieces = len(data[idx])\n",
        "    temp = [x.strip() for x in data[idx][0].split(',')]\n",
        "    temp[len(temp)-1] = temp[len(temp)-1].split('[')[0]\n",
        "    if len(temp) > 1:\n",
        "      row_data['abnormalities'] = temp[2:len(temp)]\n",
        "\n",
        "      row_data['npm'] = data[idx][pieces-1]\n",
        "      row_data['age'] = data[idx][pieces-2]\n",
        "      row_data['down_syndrome'] = data[idx][pieces-3]\n",
        "      row_data['flt3_allelic_ratio'] = data[idx][pieces-4]\n",
        "\n",
        "      row_data['risk'] = analyze_data(row_data)\n",
        "    else:\n",
        "      row_data['riskcause']= 'Chromosome row in Karyotype'\n",
        "      row_data['risk'] = 'no risk'\n",
        "    processed_data[idx] = row_data\n",
        "    \n",
        "    \n",
        "    \n",
        "    \n",
        "  \n",
        "  return processed_data\n"
      ],
      "execution_count": 0,
      "outputs": []
    },
    {
      "cell_type": "markdown",
      "metadata": {
        "id": "e7xrkWM7hfTG",
        "colab_type": "text"
      },
      "source": [
        "**5. Identify risk classification by running code for processing and analyzing the data **"
      ]
    },
    {
      "cell_type": "code",
      "metadata": {
        "id": "eu2_FTszhwre",
        "colab_type": "code",
        "colab": {}
      },
      "source": [
        "processed_data = process_and_analyze_data(file_data)\n",
        "print(processed_data)\n",
        "\n",
        "\n",
        "'''\n",
        "Print processed data\n",
        "'''\n",
        "#list containing all risks \n",
        "riskList = []\n",
        "riskCause = []\n",
        "\n",
        "for key, value in processed_data.items():\n",
        "  riskList.append(value['risk'])\n",
        "  riskCause.append(value['riskcause'])\n",
        "  print(key, value['risk'], value['riskcause'])\n"
      ],
      "execution_count": 0,
      "outputs": []
    },
    {
      "cell_type": "markdown",
      "metadata": {
        "id": "lqqPTUtTf2og",
        "colab_type": "text"
      },
      "source": [
        "**6. Descriptive Statistics**"
      ]
    },
    {
      "cell_type": "code",
      "metadata": {
        "id": "B-chryPSwOMt",
        "colab_type": "code",
        "colab": {}
      },
      "source": [
        "import pandas as pd \n",
        "df = pd.read_csv(\"combined_excel.csv\")\n",
        "print(df.describe())"
      ],
      "execution_count": 0,
      "outputs": []
    },
    {
      "cell_type": "markdown",
      "metadata": {
        "id": "zbDRMU7LwQPw",
        "colab_type": "text"
      },
      "source": [
        "**7. Finding the coorelation between the age and risk of patients**\n",
        "Motivated by https://stackoverflow.com/questions/44694228/how-to-check-for-correlation-among-continuous-and-categorical-variables-in-pytho"
      ]
    },
    {
      "cell_type": "code",
      "metadata": {
        "id": "TdMfgrPWNCbm",
        "colab_type": "code",
        "colab": {}
      },
      "source": [
        "#Converting the dict type as dataframe \n",
        "import pandas as pd \n",
        "import numpy as np\n",
        "dataframe_data = pd.read_csv(\"combined_excel.csv\")\n",
        "\n",
        "#dataframe_data = dataframe_data.drop('abnormalities', 1)\n",
        "\n",
        "#print(dataframe_data)\n",
        "dataframe_data['risk'] = riskList\n",
        "#dataframe_data['riskcause'] = riskCause\n",
        "#print(dataframe_data)\n",
        "\n",
        "#print(dataframe_data)\n",
        "# Check how to drop more than one columns at a time \n",
        "dataframe_data = dataframe_data.drop('Karyotype', 1)\n",
        "\n",
        "dataframe_data = dataframe_data.drop('FLT3 Allelic Ratio', 1)\n",
        "dataframe_data = dataframe_data.drop('Down syndrome', 1)\n",
        "dataframe_data = dataframe_data.drop('Nucleophosmin (NPM)', 1)\n",
        "#dataframe_data['Age'].corr(dataframe_data['risk'])\n",
        "# dict_risk = { 'low': 0, 'high': 1, 'standard':2, 'no risk':3}\n",
        "# dataframe_data.risk = [dict_risk[item] for item in dataframe_data.risk]\n",
        "# # print(dataframe_data.corr(method='spearman'))\n",
        "# x = dataframe_data.values\n",
        "# correlation_matrix = np.corrcoef(x.T)\n",
        "# print(correlation_matrix)\n",
        "\n",
        "df_dummies = pd.get_dummies(dataframe_data['risk'])\n",
        "#print(df_dummies)\n",
        "del df_dummies[df_dummies.columns[-1]]\n",
        "df_new = pd.concat([dataframe_data, df_dummies], axis=1)\n",
        "#print(df_new)\n",
        "del df_new['risk']\n",
        "#print(df_new)\n",
        "x = df_new.values\n",
        "#print(x)\n",
        "correlation_matrix = np.corrcoef(x.T)\n",
        "print(\"Correlation matrix between Age, High, Low and Standard\")\n",
        "print(correlation_matrix)\n",
        "\n",
        "\n"
      ],
      "execution_count": 0,
      "outputs": []
    },
    {
      "cell_type": "markdown",
      "metadata": {
        "id": "uC9gQMAH44Ce",
        "colab_type": "text"
      },
      "source": [
        "**8. Visualizing Data**"
      ]
    },
    {
      "cell_type": "code",
      "metadata": {
        "id": "zhQ3pyPuujjj",
        "colab_type": "code",
        "outputId": "844ad53e-6c55-465b-ad89-54e9226461a0",
        "colab": {
          "base_uri": "https://localhost:8080/",
          "height": 336
        }
      },
      "source": [
        "%matplotlib inline\n",
        "import pandas as pd\n",
        "import matplotlib.pyplot as plt\n",
        "import numpy as np\n",
        "\n",
        "'''create the dataframe '''\n",
        "raw_data = {'risk': ['Age less than 10', 'Age greater than 10', ''],\n",
        "        'cause1': [4, 4, 0],\n",
        "        'cause2': [15, 29, 0],\n",
        "        'cause3': [72, 15, 0]}\n",
        "df = pd.DataFrame(raw_data, columns = ['risk', 'cause1', 'cause2', 'cause3'])\n",
        "\n",
        "# Setting the positions and width for the bars\n",
        "pos = list(range(len(df['cause1']))) \n",
        "width = 0.25 \n",
        "    \n",
        "# Plotting the bars\n",
        "fig, ax = plt.subplots(figsize=(10,5))\n",
        "\n",
        "# Create a bar with pre_score data,\n",
        "# in position pos,\n",
        "plt.bar(pos, \n",
        "        #using df['cause1'] data,\n",
        "        df['cause1'], \n",
        "        # of width\n",
        "        width, \n",
        "        # with alpha 0.5\n",
        "        alpha=0.5, \n",
        "        # with color\n",
        "        color='#EE3224', \n",
        "        # with label the first value in risk\n",
        "        label=df['risk'][0]) \n",
        "\n",
        "# Create a bar with mid_score data,\n",
        "# in position pos + some width buffer,\n",
        "plt.bar([p + width for p in pos], \n",
        "        #using df['cause2'] data,\n",
        "        df['cause2'],\n",
        "        # of width\n",
        "        width, \n",
        "        # with alpha 0.5\n",
        "        alpha=0.5, \n",
        "        # with color\n",
        "        color='#F78F1E', \n",
        "        # with label the second value in risk\n",
        "        label=df['risk'][1]) \n",
        "\n",
        "# Create a bar with post_score data,\n",
        "# in position pos + some width buffer,\n",
        "plt.bar([p + width*2 for p in pos], \n",
        "        #using df['cause3'] data,\n",
        "        df['cause3'], \n",
        "        # of width\n",
        "        width, \n",
        "        # with alpha 0.5\n",
        "        alpha=0.5, \n",
        "        # with color\n",
        "        color='#FFC222', \n",
        "        # with label the third value in risk\n",
        "        label=df['risk'][2]) \n",
        "\n",
        "# Set the y axis label\n",
        "ax.set_ylabel('Count')\n",
        "\n",
        "# Set the chart's title\n",
        "ax.set_title('Risk indicators for each age group less than 10 and greater than 10')\n",
        "\n",
        "# Set the position of the x ticks\n",
        "ax.set_xticks([p + 1.5 * width for p in pos])\n",
        "\n",
        "# Set the labels for the x ticks\n",
        "ax.set_xticklabels(df['risk'])\n",
        "\n",
        "# Setting the x-axis and y-axis limits\n",
        "plt.xlim(min(pos)-width, max(pos)+width*4)\n",
        "plt.ylim([0, max(df['cause1'] + df['cause2'] + df['cause3'])] )\n",
        "\n",
        "# Adding the legend and showing the plot\n",
        "plt.legend(['Indicator 1 [-7] ', 'Indicator 2 [flt3]', 'Indicator 3 [complex]'], loc='center')\n",
        "plt.grid()\n",
        "plt.show()"
      ],
      "execution_count": 0,
      "outputs": [
        {
          "output_type": "display_data",
          "data": {
            "image/png": "[encoded data removed]",
            "text/plain": [
              "<matplotlib.figure.Figure at 0x7f0bef9ac470>"
            ]
          },
          "metadata": {
            "tags": []
          }
        }
      ]
    },
    {
      "cell_type": "markdown",
      "metadata": {
        "id": "TBpFydko75vN",
        "colab_type": "text"
      },
      "source": [
        "**Age wise FLT high risk plot**"
      ]
    },
    {
      "cell_type": "code",
      "metadata": {
        "id": "6n5x_s1274mX",
        "colab_type": "code",
        "outputId": "8c55985f-6dc2-4125-f8ff-333c5fb298b3",
        "colab": {
          "base_uri": "https://localhost:8080/",
          "height": 452
        }
      },
      "source": [
        "\"\"\"\n",
        "====================\n",
        "Horizontal bar chart\n",
        "====================\n",
        "\n",
        "This example showcases a simple horizontal bar chart.\n",
        "\"\"\"\n",
        "import matplotlib.pyplot as plt\n",
        "plt.rcdefaults()\n",
        "import numpy as np\n",
        "import matplotlib.pyplot as plt\n",
        "\n",
        "\n",
        "plt.rcdefaults()\n",
        "fig, ax = plt.subplots()\n",
        "\n",
        "# Example data\n",
        "people = ('<10', '>10')\n",
        "y_pos = np.arange(len(people))\n",
        "performance = (15, 29)\n",
        "error = np.random.rand(len(people))\n",
        "\n",
        "ax.barh(y_pos, performance, xerr=error, align='center',\n",
        "        color='green', ecolor='black')\n",
        "ax.set_yticks(y_pos)\n",
        "ax.set_yticklabels(people)\n",
        "ax.invert_yaxis()  # labels read top-to-bottom\n",
        "ax.set_ylabel('Age range')\n",
        "ax.set_title('FLT3 High risk with Higher age groups')\n",
        "\n",
        "plt.show()"
      ],
      "execution_count": 0,
      "outputs": [
        {
          "output_type": "display_data",
          "data": {
            "image/png": "[encoded data removed]",
            "text/plain": [
              "<matplotlib.figure.Figure at 0x7f0bf1efb9b0>"
            ]
          },
          "metadata": {
            "tags": []
          }
        }
      ]
    },
    {
      "cell_type": "code",
      "metadata": {
        "id": "pyqwrBaKV_XB",
        "colab_type": "code",
        "colab": {}
      },
      "source": [
        "'''\n",
        "Load combined_excel.csv from your local drive\n",
        "'''\n",
        "​\n",
        "from google.colab import files\n",
        "​\n",
        "uploaded = files.upload()\n",
        "​\n",
        "for fn in uploaded.keys():\n",
        "  print('User uploaded file \"{name}\" with length {length} bytes'.format(\n",
        "      name=fn, length=len(uploaded[fn])))\n",
        "import pandas as pd\n",
        "specific_risk_data = pd.read_csv(\"\")"
      ],
      "execution_count": 0,
      "outputs": []
    },
    {
      "cell_type": "markdown",
      "metadata": {
        "id": "ooASxSxa5PKZ",
        "colab_type": "text"
      },
      "source": [
        "**Code to download CSV from dataframe**"
      ]
    },
    {
      "cell_type": "code",
      "metadata": {
        "id": "jbu0n9-QpvrI",
        "colab_type": "code",
        "colab": {}
      },
      "source": [
        "import pandas as pd \n",
        "#dataframe created from dict \n",
        "dataframe_data = pd.DataFrame.from_dict(processed_data)\n",
        "#dataframe_data.to_csv(processed_file, sep='\\t', encoding='utf-8')\n",
        "from google.colab import files\n",
        "\n",
        "dataframe_data.to_csv('df.csv')\n",
        "files.download('df.csv')"
      ],
      "execution_count": 0,
      "outputs": []
    }
  ]
}